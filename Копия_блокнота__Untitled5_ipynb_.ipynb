{
  "nbformat": 4,
  "nbformat_minor": 0,
  "metadata": {
    "colab": {
      "provenance": []
    },
    "kernelspec": {
      "name": "python3",
      "display_name": "Python 3"
    },
    "language_info": {
      "name": "python"
    }
  },
  "cells": [
    {
      "cell_type": "markdown",
      "source": [
        "Дано натуральное число N. Выведите число, полученное перестановкой цифр исходного числа в обратном порядке"
      ],
      "metadata": {
        "id": "A6Gyvcgga4XW"
      }
    },
    {
      "cell_type": "code",
      "source": [
        "n = int(input(\"Введите число: \"))\n",
        "\n",
        "\n",
        "coup = 0\n",
        "while n > 0:\n",
        "    coup = coup * 10 + n % 10\n",
        "    n //= 10\n",
        "print(coup)"
      ],
      "metadata": {
        "colab": {
          "base_uri": "https://localhost:8080/"
        },
        "id": "7_RqY4Goa5MJ",
        "outputId": "e4804f62-6253-4e6a-ee1c-e45cc1dc3c96"
      },
      "execution_count": null,
      "outputs": [
        {
          "output_type": "stream",
          "name": "stdout",
          "text": [
            "Введите число: 12345689\n",
            "98654321\n"
          ]
        }
      ]
    },
    {
      "cell_type": "markdown",
      "source": [
        "Дано натуральное число N и цифра k. Посчитать сколько раз встречается цифра k в числе N"
      ],
      "metadata": {
        "id": "ETvBrXWHZnUT"
      }
    },
    {
      "cell_type": "code",
      "source": [
        "k = int(input(\"Введите цифру: \"))\n",
        "n = int(input(\"Введите число: \"))\n",
        "\n",
        "count = 0\n",
        "while n > 0:\n",
        "    if n % 10 == k:\n",
        "        count += 1\n",
        "    n //= 10\n",
        "print(count)"
      ],
      "metadata": {
        "colab": {
          "base_uri": "https://localhost:8080/"
        },
        "id": "8qs4bMygZquq",
        "outputId": "5426777d-89ef-4904-e1a6-e68483fe530b"
      },
      "execution_count": null,
      "outputs": [
        {
          "output_type": "stream",
          "name": "stdout",
          "text": [
            "Введите цифру: 4\n",
            "Введите число: 5644894\n",
            "3\n"
          ]
        }
      ]
    },
    {
      "cell_type": "markdown",
      "source": [
        "Найти максимальную и минимальную цифру в веденном с клавиатуры числе"
      ],
      "metadata": {
        "id": "Ck-Lu_-kYPtQ"
      }
    },
    {
      "cell_type": "code",
      "source": [
        "x = int(input(\"Введите число: \"))\n",
        "\n",
        "max_digit = 0\n",
        "min_digit = 9\n",
        "while x > 0:\n",
        "    digit = x % 10\n",
        "    if digit > max_digit:\n",
        "        max_digit = digit\n",
        "    if digit < min_digit:\n",
        "        min_digit = digit\n",
        "    x //= 10\n",
        "\n",
        "print(\"Максимальная цифра:\", max_digit)\n",
        "print(\"Минимальная цифра:\", min_digit)"
      ],
      "metadata": {
        "colab": {
          "base_uri": "https://localhost:8080/"
        },
        "id": "yMn--beSY86j",
        "outputId": "05044921-ae10-4672-9e73-7d83fb56fc16"
      },
      "execution_count": null,
      "outputs": [
        {
          "output_type": "stream",
          "name": "stdout",
          "text": [
            "Введите число: 25648\n",
            "Максимальная цифра: 8\n",
            "Минимальная цифра: 2\n"
          ]
        }
      ]
    },
    {
      "cell_type": "markdown",
      "source": [
        "Найти сумму всех цифр в веденном с клавиатуры числе\n"
      ],
      "metadata": {
        "id": "q-90F7npXwCP"
      }
    },
    {
      "cell_type": "code",
      "source": [
        "x = int(input(\"Введите число: \"))\n",
        "\n",
        "sus = 0\n",
        "while x > 0:\n",
        "    sus += x % 10\n",
        "    x //= 10\n",
        "print(sus)"
      ],
      "metadata": {
        "colab": {
          "base_uri": "https://localhost:8080/"
        },
        "id": "iigZcdS5X-Qy",
        "outputId": "1e5bccff-252d-4e7e-be13-e9aa33c044c6"
      },
      "execution_count": null,
      "outputs": [
        {
          "output_type": "stream",
          "name": "stdout",
          "text": [
            "Введите число: 123456789\n",
            "45\n"
          ]
        }
      ]
    },
    {
      "cell_type": "markdown",
      "source": [
        "Найти количество цифр в веденном с клавиатуры числе"
      ],
      "metadata": {
        "id": "9mvySZd1VUGj"
      }
    },
    {
      "cell_type": "code",
      "source": [
        "x = int(input(\"Введите число: \"))\n",
        "\n",
        "count = 0\n",
        "while x > 0:\n",
        "    x //= 10\n",
        "    count += 1\n",
        "print(count)"
      ],
      "metadata": {
        "colab": {
          "base_uri": "https://localhost:8080/"
        },
        "id": "HivSVgIKVTW1",
        "outputId": "86c8d725-f3ee-4605-ca4c-d0fdf4777b10"
      },
      "execution_count": null,
      "outputs": [
        {
          "output_type": "stream",
          "name": "stdout",
          "text": [
            "Введите число: 123456789\n",
            "9\n"
          ]
        }
      ]
    },
    {
      "cell_type": "markdown",
      "source": [
        "С клавиатуры вводится число x. Найти сумму всех чисел от 0 до x."
      ],
      "metadata": {
        "id": "6KohVe8mMoex"
      }
    },
    {
      "cell_type": "code",
      "source": [
        "x = int(input(\"Введите число: \"))\n",
        "\n",
        "i = 0\n",
        "sus = 0\n",
        "while i <= x:\n",
        "    sus += i\n",
        "    i += 1\n",
        "print(sus)"
      ],
      "metadata": {
        "colab": {
          "base_uri": "https://localhost:8080/"
        },
        "id": "phe4h7ZWMne1",
        "outputId": "c3531f68-a682-4d2d-9784-768f209e5627"
      },
      "execution_count": null,
      "outputs": [
        {
          "output_type": "stream",
          "name": "stdout",
          "text": [
            "Введите число: 100\n",
            "5050\n"
          ]
        }
      ]
    },
    {
      "cell_type": "markdown",
      "source": [
        "Выведите все числа от 0 до 100, которые делятся без остатка на введенное с клавиатуры x."
      ],
      "metadata": {
        "id": "AG4oJdiWJH1b"
      }
    },
    {
      "cell_type": "code",
      "execution_count": null,
      "metadata": {
        "colab": {
          "base_uri": "https://localhost:8080/"
        },
        "id": "DT9B9f-DJG9l",
        "outputId": "b3643efc-0bad-40cd-9133-6cdd9f223feb"
      },
      "outputs": [
        {
          "output_type": "stream",
          "name": "stdout",
          "text": [
            "Введите число: 8\n",
            "0\n",
            "8\n",
            "16\n",
            "24\n",
            "32\n",
            "40\n",
            "48\n",
            "56\n",
            "64\n",
            "72\n",
            "80\n",
            "88\n",
            "96\n"
          ]
        }
      ],
      "source": [
        "x = int(input(\"Введите число: \"))\n",
        "\n",
        "i = 0\n",
        "while i <= 100:\n",
        "    if i % x == 0:\n",
        "        print(i)\n",
        "    i += 1"
      ]
    }
  ]
}